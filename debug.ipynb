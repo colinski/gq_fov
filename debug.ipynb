{
 "cells": [
  {
   "cell_type": "code",
   "execution_count": 1,
   "id": "3219bafc-fc8f-4d1f-a0e6-7d3945a47c4c",
   "metadata": {},
   "outputs": [],
   "source": [
    "import torch\n",
    "import torch.nn as nn\n",
    "import cv2\n",
    "import numpy as np\n",
    "import json\n",
    "import matplotlib.pyplot as plt\n",
    "import pandas as pd\n",
    "import math\n",
    "from scipy.spatial.transform import Rotation as R"
   ]
  },
  {
   "cell_type": "code",
   "execution_count": 2,
   "id": "d25feb18-36ef-4a2b-98ae-93566af2d76e",
   "metadata": {},
   "outputs": [],
   "source": [
    "from calc_pixel import *\n",
    "import gps_utils as gutils"
   ]
  },
  {
   "cell_type": "code",
   "execution_count": 3,
   "id": "4d99902d-5aa4-4453-ae9e-a9047a26126b",
   "metadata": {},
   "outputs": [],
   "source": [
    "with open('camera_info.json') as f:\n",
    "    camera_info = json.load(f)"
   ]
  },
  {
   "cell_type": "code",
   "execution_count": 4,
   "id": "25254dbc-4966-43ac-841b-7943e98e5e06",
   "metadata": {},
   "outputs": [],
   "source": [
    "def gps2cart(point):\n",
    "    x, y = gutils.to_pixel(point[0], point[1], center_x, center_y, zoom=18, width=1024, height=1024)\n",
    "    output = torch.tensor([x,y,point[-1]])\n",
    "    return output"
   ]
  },
  {
   "cell_type": "code",
   "execution_count": 5,
   "id": "85d68973-d939-4074-a44b-10a2925458a1",
   "metadata": {},
   "outputs": [],
   "source": [
    "center_x, center_y = 39.351, -76.345"
   ]
  },
  {
   "cell_type": "code",
   "execution_count": 6,
   "id": "51aa3bd4-0242-4ff9-8fa1-91dac3da4c0e",
   "metadata": {},
   "outputs": [],
   "source": [
    "img_h, img_w = 1080, 1920\n",
    "fov_h, fov_v = 84, 53  # degrees\n",
    "\n",
    "n_pos, n_cov = parse_log('Node Positioning GPS Data/R00-node1-left.log')\n",
    "n_pos = gps2cart(n_pos)\n",
    "rot_df = pd.read_csv('20240108-224709_camera_rotation.csv', header=None)\n",
    "rot = R.from_euler('xyz', rot_df.mean())\n",
    "n_rot = torch.from_numpy(rot.as_matrix()).float()\n",
    "n_pos = n_pos.unsqueeze(0)\n",
    "#n_rot = n_rot.unsqueeze(0)\n",
    "\n",
    "fnames = ['samples/frame_1800.jpg', 'samples/frame_2800.jpg', 'samples/frame_4440.jpg']\n",
    "frames = [load_frame(fname) for fname in fnames]\n",
    "#pixels = np.array([detect(frame) for frame in frames])"
   ]
  },
  {
   "cell_type": "code",
   "execution_count": 14,
   "id": "18353655-44f9-4a32-b800-c7c076b90d29",
   "metadata": {},
   "outputs": [
    {
     "name": "stdout",
     "output_type": "stream",
     "text": [
      "tensor([[539.0000, 605.0000,   9.1421]])\n"
     ]
    }
   ],
   "source": [
    "print(n_pos)"
   ]
  },
  {
   "cell_type": "code",
   "execution_count": 7,
   "id": "fde9903c-2f65-43fe-b389-989defa2e5c9",
   "metadata": {},
   "outputs": [],
   "source": [
    "obj_points = []\n",
    "for i in [1,2,3]:\n",
    "    o_pos, o_cov = parse_log('Node Positioning GPS Data/R00-node1-pos%d.log' % i)\n",
    "    o_pos = gps2cart(o_pos)\n",
    "    obj_points.append(o_pos)\n",
    "obj_points = torch.stack(obj_points)"
   ]
  },
  {
   "cell_type": "code",
   "execution_count": null,
   "id": "b4c852e4-98be-4cbd-8efb-b40bded69da0",
   "metadata": {},
   "outputs": [],
   "source": []
  },
  {
   "cell_type": "code",
   "execution_count": 8,
   "id": "d68e99ea-89e0-4373-93f6-2094cc7195bd",
   "metadata": {},
   "outputs": [],
   "source": [
    "pitch, yaw, roll = rot_df.mean()\n",
    "pitch = torch.tensor(pitch).unsqueeze(0)\n",
    "yaw = torch.tensor(yaw).unsqueeze(0)\n",
    "roll = torch.tensor(roll).unsqueeze(0)"
   ]
  },
  {
   "cell_type": "code",
   "execution_count": 9,
   "id": "c8c7a0c9-e3b2-4316-b610-643b9ea6262b",
   "metadata": {},
   "outputs": [],
   "source": [
    "class Euler2RotationMatrix(nn.Module):\n",
    "    def __init__(self):\n",
    "        super().__init__()\n",
    "\n",
    "    def forward(self, roll, pitch, yaw):\n",
    "        # angles is expected to be a batch of N x 3 (roll, pitch, yaw)\n",
    "        #roll, pitch, yaw = angles[:, 0], angles[:, 1], angles[:, 2]\n",
    "\n",
    "        # Precompute cosines and sines of the angles\n",
    "        cos_r, sin_r = torch.cos(roll), torch.sin(roll)\n",
    "        cos_p, sin_p = torch.cos(pitch), torch.sin(pitch)\n",
    "        cos_y, sin_y = torch.cos(yaw), torch.sin(yaw)\n",
    "\n",
    "        # Construct rotation matrix for roll\n",
    "        r_mat = torch.stack([\n",
    "            torch.ones_like(roll), torch.zeros_like(roll), torch.zeros_like(roll),\n",
    "            torch.zeros_like(roll), cos_r, -sin_r,\n",
    "            torch.zeros_like(roll), sin_r, cos_r\n",
    "        ], dim=-1).view(-1, 3, 3)\n",
    "\n",
    "        # Construct rotation matrix for pitch\n",
    "        p_mat = torch.stack([\n",
    "            cos_p, torch.zeros_like(pitch), sin_p,\n",
    "            torch.zeros_like(pitch), torch.ones_like(pitch), torch.zeros_like(pitch),\n",
    "            -sin_p, torch.zeros_like(pitch), cos_p\n",
    "        ], dim=-1).view(-1, 3, 3)\n",
    "\n",
    "        # Construct rotation matrix for yaw\n",
    "        y_mat = torch.stack([\n",
    "            cos_y, -sin_y, torch.zeros_like(yaw),\n",
    "            sin_y, cos_y, torch.zeros_like(yaw),\n",
    "            torch.zeros_like(yaw), torch.zeros_like(yaw), torch.ones_like(yaw)\n",
    "        ], dim=-1).view(-1, 3, 3)\n",
    "\n",
    "        # Combine the rotation matrices\n",
    "        rotation_matrix = torch.bmm(torch.bmm(y_mat, p_mat), r_mat)\n",
    "\n",
    "        return rotation_matrix"
   ]
  },
  {
   "cell_type": "code",
   "execution_count": 10,
   "id": "4a4cc689-0dd2-4cc2-85a4-a71f0682573f",
   "metadata": {},
   "outputs": [],
   "source": [
    "def in_bounds(pixel, image_width=1920, image_height=1080):\n",
    "    x, y = pixel\n",
    "    return 0 <= x < image_width and 0 <= y < image_height"
   ]
  },
  {
   "cell_type": "code",
   "execution_count": 11,
   "id": "a43b14f9-e087-4e8a-9a7c-c8a49cabb249",
   "metadata": {},
   "outputs": [],
   "source": [
    "new_frames = []\n",
    "euler2rot = Euler2RotationMatrix()\n",
    "yaw_values = torch.arange(0, 2*math.pi, 0.1)\n",
    "for i, frame in enumerate(frames):\n",
    "    new_frame = frame.copy()\n",
    "    obj_point = obj_points[i].unsqueeze(0)\n",
    "    for yaw in yaw_values:\n",
    "        yaw = yaw.unsqueeze(0)\n",
    "        rot_matrix = euler2rot(roll,pitch,yaw)[0]\n",
    "        local_points = (obj_point - n_pos) @ rot_matrix\n",
    "        X = (local_points[:, 1] + 0)\n",
    "        Y = (local_points[:, 2] + 0)\n",
    "        Z = (local_points[:, 0]) + 0\n",
    "        u = (X/Z) * camera_info['left']['fx'] + camera_info['left']['cx']\n",
    "        v = (Y/Z) * camera_info['left']['fy'] + camera_info['left']['cy']\n",
    "        #pixel = torch.stack((u, v), dim=1).to(int)\n",
    "        #print(pixel.shape)\n",
    "        pixel = (int(u.item()), int(v.item()))\n",
    "        if in_bounds(pixel):\n",
    "            new_frame = cv2.circle(new_frame, tuple(pixel), 10, (0, 255, 0), -1)\n",
    "            new_frame = cv2.putText(new_frame, \"{:.2f}\".format(yaw.item()), (pixel[0], pixel[1] - 20), cv2.FONT_HERSHEY_SIMPLEX, 0.5, (0, 0, 255), 2)\n",
    "    new_frames.append(new_frame)"
   ]
  },
  {
   "cell_type": "code",
   "execution_count": 12,
   "id": "a09f7e00-aa5a-464f-9c76-f797428c5acf",
   "metadata": {},
   "outputs": [],
   "source": [
    "for i, frame in enumerate(new_frames):\n",
    "    cv2.imwrite('results/frame_%d.png' % i, frame)"
   ]
  }
 ],
 "metadata": {
  "kernelspec": {
   "display_name": "Python 3 (ipykernel)",
   "language": "python",
   "name": "python3"
  },
  "language_info": {
   "codemirror_mode": {
    "name": "ipython",
    "version": 3
   },
   "file_extension": ".py",
   "mimetype": "text/x-python",
   "name": "python",
   "nbconvert_exporter": "python",
   "pygments_lexer": "ipython3",
   "version": "3.10.12"
  }
 },
 "nbformat": 4,
 "nbformat_minor": 5
}
