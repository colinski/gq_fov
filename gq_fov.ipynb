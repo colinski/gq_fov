{
 "cells": [
  {
   "cell_type": "code",
   "execution_count": 2,
   "id": "7a646cb1-4ec2-4ee0-b74a-b1aa7b3d5e4e",
   "metadata": {},
   "outputs": [
    {
     "ename": "PermissionError",
     "evalue": "[Errno 13] Permission denied: '/usr/local/lib/python3.8/dist-packages/pyzed-3.7.dist-info'",
     "output_type": "error",
     "traceback": [
      "\u001b[0;31m---------------------------------------------------------------------------\u001b[0m",
      "\u001b[0;31mPermissionError\u001b[0m                           Traceback (most recent call last)",
      "Input \u001b[0;32mIn [2]\u001b[0m, in \u001b[0;36m<cell line: 1>\u001b[0;34m()\u001b[0m\n\u001b[0;32m----> 1\u001b[0m \u001b[38;5;28;01mimport\u001b[39;00m \u001b[38;5;21;01mtorch\u001b[39;00m\n\u001b[1;32m      2\u001b[0m \u001b[38;5;28;01mimport\u001b[39;00m \u001b[38;5;21;01mcv2\u001b[39;00m\n\u001b[1;32m      3\u001b[0m \u001b[38;5;28;01mimport\u001b[39;00m \u001b[38;5;21;01mnumpy\u001b[39;00m \u001b[38;5;28;01mas\u001b[39;00m \u001b[38;5;21;01mnp\u001b[39;00m\n",
      "File \u001b[0;32m~/.local/lib/python3.8/site-packages/torch/__init__.py:29\u001b[0m, in \u001b[0;36m<module>\u001b[0;34m\u001b[0m\n\u001b[1;32m     27\u001b[0m     __version__ \u001b[38;5;241m=\u001b[39m \u001b[38;5;124m\"\u001b[39m\u001b[38;5;124mtorch-deploy-1.8\u001b[39m\u001b[38;5;124m\"\u001b[39m\n\u001b[1;32m     28\u001b[0m \u001b[38;5;28;01melse\u001b[39;00m:\n\u001b[0;32m---> 29\u001b[0m     \u001b[38;5;28;01mfrom\u001b[39;00m \u001b[38;5;21;01m.\u001b[39;00m\u001b[38;5;21;01mtorch_version\u001b[39;00m \u001b[38;5;28;01mimport\u001b[39;00m __version__ \u001b[38;5;28;01mas\u001b[39;00m __version__\n\u001b[1;32m     31\u001b[0m \u001b[38;5;28;01mfrom\u001b[39;00m \u001b[38;5;21;01m.\u001b[39;00m\u001b[38;5;21;01m_six\u001b[39;00m \u001b[38;5;28;01mimport\u001b[39;00m string_classes \u001b[38;5;28;01mas\u001b[39;00m _string_classes\n\u001b[1;32m     33\u001b[0m \u001b[38;5;28;01mfrom\u001b[39;00m \u001b[38;5;21;01mtyping\u001b[39;00m \u001b[38;5;28;01mimport\u001b[39;00m Set, Type, TYPE_CHECKING\n",
      "File \u001b[0;32m~/.local/lib/python3.8/site-packages/torch/torch_version.py:3\u001b[0m, in \u001b[0;36m<module>\u001b[0;34m\u001b[0m\n\u001b[1;32m      1\u001b[0m \u001b[38;5;28;01mfrom\u001b[39;00m \u001b[38;5;21;01mtyping\u001b[39;00m \u001b[38;5;28;01mimport\u001b[39;00m Iterable, Union\n\u001b[0;32m----> 3\u001b[0m \u001b[38;5;28;01mfrom\u001b[39;00m \u001b[38;5;21;01mpkg_resources\u001b[39;00m \u001b[38;5;28;01mimport\u001b[39;00m packaging  \u001b[38;5;66;03m# type: ignore[attr-defined]\u001b[39;00m\n\u001b[1;32m      5\u001b[0m Version \u001b[38;5;241m=\u001b[39m packaging\u001b[38;5;241m.\u001b[39mversion\u001b[38;5;241m.\u001b[39mVersion\n\u001b[1;32m      6\u001b[0m InvalidVersion \u001b[38;5;241m=\u001b[39m packaging\u001b[38;5;241m.\u001b[39mversion\u001b[38;5;241m.\u001b[39mInvalidVersion\n",
      "File \u001b[0;32m/usr/lib/python3/dist-packages/pkg_resources/__init__.py:3254\u001b[0m, in \u001b[0;36m<module>\u001b[0;34m\u001b[0m\n\u001b[1;32m   3245\u001b[0m     g[\u001b[38;5;124m'\u001b[39m\u001b[38;5;124m_manager\u001b[39m\u001b[38;5;124m'\u001b[39m] \u001b[38;5;241m=\u001b[39m manager\n\u001b[1;32m   3246\u001b[0m     g\u001b[38;5;241m.\u001b[39mupdate(\n\u001b[1;32m   3247\u001b[0m         (name, \u001b[38;5;28mgetattr\u001b[39m(manager, name))\n\u001b[1;32m   3248\u001b[0m         \u001b[38;5;28;01mfor\u001b[39;00m name \u001b[38;5;129;01min\u001b[39;00m \u001b[38;5;28mdir\u001b[39m(manager)\n\u001b[1;32m   3249\u001b[0m         \u001b[38;5;28;01mif\u001b[39;00m \u001b[38;5;129;01mnot\u001b[39;00m name\u001b[38;5;241m.\u001b[39mstartswith(\u001b[38;5;124m'\u001b[39m\u001b[38;5;124m_\u001b[39m\u001b[38;5;124m'\u001b[39m)\n\u001b[1;32m   3250\u001b[0m     )\n\u001b[1;32m   3253\u001b[0m \u001b[38;5;129;43m@_call_aside\u001b[39;49m\n\u001b[0;32m-> 3254\u001b[0m \u001b[38;5;28;43;01mdef\u001b[39;49;00m\u001b[43m \u001b[49m\u001b[38;5;21;43m_initialize_master_working_set\u001b[39;49m\u001b[43m(\u001b[49m\u001b[43m)\u001b[49m\u001b[43m:\u001b[49m\n\u001b[1;32m   3255\u001b[0m \u001b[43m    \u001b[49m\u001b[38;5;124;43;03m\"\"\"\u001b[39;49;00m\n\u001b[1;32m   3256\u001b[0m \u001b[38;5;124;43;03m    Prepare the master working set and make the ``require()``\u001b[39;49;00m\n\u001b[1;32m   3257\u001b[0m \u001b[38;5;124;43;03m    API available.\u001b[39;49;00m\n\u001b[0;32m   (...)\u001b[0m\n\u001b[1;32m   3264\u001b[0m \u001b[38;5;124;43;03m    at their own risk.\u001b[39;49;00m\n\u001b[1;32m   3265\u001b[0m \u001b[38;5;124;43;03m    \"\"\"\u001b[39;49;00m\n\u001b[1;32m   3266\u001b[0m \u001b[43m    \u001b[49m\u001b[43mworking_set\u001b[49m\u001b[43m \u001b[49m\u001b[38;5;241;43m=\u001b[39;49m\u001b[43m \u001b[49m\u001b[43mWorkingSet\u001b[49m\u001b[38;5;241;43m.\u001b[39;49m\u001b[43m_build_master\u001b[49m\u001b[43m(\u001b[49m\u001b[43m)\u001b[49m\n",
      "File \u001b[0;32m/usr/lib/python3/dist-packages/pkg_resources/__init__.py:3237\u001b[0m, in \u001b[0;36m_call_aside\u001b[0;34m(f, *args, **kwargs)\u001b[0m\n\u001b[1;32m   3236\u001b[0m \u001b[38;5;28;01mdef\u001b[39;00m \u001b[38;5;21m_call_aside\u001b[39m(f, \u001b[38;5;241m*\u001b[39margs, \u001b[38;5;241m*\u001b[39m\u001b[38;5;241m*\u001b[39mkwargs):\n\u001b[0;32m-> 3237\u001b[0m     \u001b[43mf\u001b[49m\u001b[43m(\u001b[49m\u001b[38;5;241;43m*\u001b[39;49m\u001b[43margs\u001b[49m\u001b[43m,\u001b[49m\u001b[43m \u001b[49m\u001b[38;5;241;43m*\u001b[39;49m\u001b[38;5;241;43m*\u001b[39;49m\u001b[43mkwargs\u001b[49m\u001b[43m)\u001b[49m\n\u001b[1;32m   3238\u001b[0m     \u001b[38;5;28;01mreturn\u001b[39;00m f\n",
      "File \u001b[0;32m/usr/lib/python3/dist-packages/pkg_resources/__init__.py:3266\u001b[0m, in \u001b[0;36m_initialize_master_working_set\u001b[0;34m()\u001b[0m\n\u001b[1;32m   3253\u001b[0m \u001b[38;5;129m@_call_aside\u001b[39m\n\u001b[1;32m   3254\u001b[0m \u001b[38;5;28;01mdef\u001b[39;00m \u001b[38;5;21m_initialize_master_working_set\u001b[39m():\n\u001b[1;32m   3255\u001b[0m     \u001b[38;5;124;03m\"\"\"\u001b[39;00m\n\u001b[1;32m   3256\u001b[0m \u001b[38;5;124;03m    Prepare the master working set and make the ``require()``\u001b[39;00m\n\u001b[1;32m   3257\u001b[0m \u001b[38;5;124;03m    API available.\u001b[39;00m\n\u001b[0;32m   (...)\u001b[0m\n\u001b[1;32m   3264\u001b[0m \u001b[38;5;124;03m    at their own risk.\u001b[39;00m\n\u001b[1;32m   3265\u001b[0m \u001b[38;5;124;03m    \"\"\"\u001b[39;00m\n\u001b[0;32m-> 3266\u001b[0m     working_set \u001b[38;5;241m=\u001b[39m \u001b[43mWorkingSet\u001b[49m\u001b[38;5;241;43m.\u001b[39;49m\u001b[43m_build_master\u001b[49m\u001b[43m(\u001b[49m\u001b[43m)\u001b[49m\n\u001b[1;32m   3267\u001b[0m     _declare_state(\u001b[38;5;124m'\u001b[39m\u001b[38;5;124mobject\u001b[39m\u001b[38;5;124m'\u001b[39m, working_set\u001b[38;5;241m=\u001b[39mworking_set)\n\u001b[1;32m   3269\u001b[0m     require \u001b[38;5;241m=\u001b[39m working_set\u001b[38;5;241m.\u001b[39mrequire\n",
      "File \u001b[0;32m/usr/lib/python3/dist-packages/pkg_resources/__init__.py:575\u001b[0m, in \u001b[0;36mWorkingSet._build_master\u001b[0;34m(cls)\u001b[0m\n\u001b[1;32m    570\u001b[0m \u001b[38;5;129m@classmethod\u001b[39m\n\u001b[1;32m    571\u001b[0m \u001b[38;5;28;01mdef\u001b[39;00m \u001b[38;5;21m_build_master\u001b[39m(\u001b[38;5;28mcls\u001b[39m):\n\u001b[1;32m    572\u001b[0m     \u001b[38;5;124;03m\"\"\"\u001b[39;00m\n\u001b[1;32m    573\u001b[0m \u001b[38;5;124;03m    Prepare the master working set.\u001b[39;00m\n\u001b[1;32m    574\u001b[0m \u001b[38;5;124;03m    \"\"\"\u001b[39;00m\n\u001b[0;32m--> 575\u001b[0m     ws \u001b[38;5;241m=\u001b[39m \u001b[38;5;28;43mcls\u001b[39;49m\u001b[43m(\u001b[49m\u001b[43m)\u001b[49m\n\u001b[1;32m    576\u001b[0m     \u001b[38;5;28;01mtry\u001b[39;00m:\n\u001b[1;32m    577\u001b[0m         \u001b[38;5;28;01mfrom\u001b[39;00m \u001b[38;5;21;01m__main__\u001b[39;00m \u001b[38;5;28;01mimport\u001b[39;00m __requires__\n",
      "File \u001b[0;32m/usr/lib/python3/dist-packages/pkg_resources/__init__.py:568\u001b[0m, in \u001b[0;36mWorkingSet.__init__\u001b[0;34m(self, entries)\u001b[0m\n\u001b[1;32m    565\u001b[0m     entries \u001b[38;5;241m=\u001b[39m sys\u001b[38;5;241m.\u001b[39mpath\n\u001b[1;32m    567\u001b[0m \u001b[38;5;28;01mfor\u001b[39;00m entry \u001b[38;5;129;01min\u001b[39;00m entries:\n\u001b[0;32m--> 568\u001b[0m     \u001b[38;5;28;43mself\u001b[39;49m\u001b[38;5;241;43m.\u001b[39;49m\u001b[43madd_entry\u001b[49m\u001b[43m(\u001b[49m\u001b[43mentry\u001b[49m\u001b[43m)\u001b[49m\n",
      "File \u001b[0;32m/usr/lib/python3/dist-packages/pkg_resources/__init__.py:624\u001b[0m, in \u001b[0;36mWorkingSet.add_entry\u001b[0;34m(self, entry)\u001b[0m\n\u001b[1;32m    622\u001b[0m \u001b[38;5;28mself\u001b[39m\u001b[38;5;241m.\u001b[39mentry_keys\u001b[38;5;241m.\u001b[39msetdefault(entry, [])\n\u001b[1;32m    623\u001b[0m \u001b[38;5;28mself\u001b[39m\u001b[38;5;241m.\u001b[39mentries\u001b[38;5;241m.\u001b[39mappend(entry)\n\u001b[0;32m--> 624\u001b[0m \u001b[38;5;28;01mfor\u001b[39;00m dist \u001b[38;5;129;01min\u001b[39;00m find_distributions(entry, \u001b[38;5;28;01mTrue\u001b[39;00m):\n\u001b[1;32m    625\u001b[0m     \u001b[38;5;28mself\u001b[39m\u001b[38;5;241m.\u001b[39madd(dist, entry, \u001b[38;5;28;01mFalse\u001b[39;00m)\n",
      "File \u001b[0;32m/usr/lib/python3/dist-packages/pkg_resources/__init__.py:2066\u001b[0m, in \u001b[0;36mfind_on_path\u001b[0;34m(importer, path_item, only)\u001b[0m\n\u001b[1;32m   2064\u001b[0m fullpath \u001b[38;5;241m=\u001b[39m os\u001b[38;5;241m.\u001b[39mpath\u001b[38;5;241m.\u001b[39mjoin(path_item, entry)\n\u001b[1;32m   2065\u001b[0m factory \u001b[38;5;241m=\u001b[39m dist_factory(path_item, entry, only)\n\u001b[0;32m-> 2066\u001b[0m \u001b[38;5;28;01mfor\u001b[39;00m dist \u001b[38;5;129;01min\u001b[39;00m factory(fullpath):\n\u001b[1;32m   2067\u001b[0m     \u001b[38;5;28;01myield\u001b[39;00m dist\n",
      "File \u001b[0;32m/usr/lib/python3/dist-packages/pkg_resources/__init__.py:2128\u001b[0m, in \u001b[0;36mdistributions_from_metadata\u001b[0;34m(path)\u001b[0m\n\u001b[1;32m   2126\u001b[0m root \u001b[38;5;241m=\u001b[39m os\u001b[38;5;241m.\u001b[39mpath\u001b[38;5;241m.\u001b[39mdirname(path)\n\u001b[1;32m   2127\u001b[0m \u001b[38;5;28;01mif\u001b[39;00m os\u001b[38;5;241m.\u001b[39mpath\u001b[38;5;241m.\u001b[39misdir(path):\n\u001b[0;32m-> 2128\u001b[0m     \u001b[38;5;28;01mif\u001b[39;00m \u001b[38;5;28mlen\u001b[39m(\u001b[43mos\u001b[49m\u001b[38;5;241;43m.\u001b[39;49m\u001b[43mlistdir\u001b[49m\u001b[43m(\u001b[49m\u001b[43mpath\u001b[49m\u001b[43m)\u001b[49m) \u001b[38;5;241m==\u001b[39m \u001b[38;5;241m0\u001b[39m:\n\u001b[1;32m   2129\u001b[0m         \u001b[38;5;66;03m# empty metadata dir; skip\u001b[39;00m\n\u001b[1;32m   2130\u001b[0m         \u001b[38;5;28;01mreturn\u001b[39;00m\n\u001b[1;32m   2131\u001b[0m     metadata \u001b[38;5;241m=\u001b[39m PathMetadata(root, path)\n",
      "\u001b[0;31mPermissionError\u001b[0m: [Errno 13] Permission denied: '/usr/local/lib/python3.8/dist-packages/pyzed-3.7.dist-info'"
     ]
    }
   ],
   "source": [
    "import torch\n",
    "import cv2\n",
    "import numpy as np\n",
    "import json\n",
    "import matplotlib.pyplot as plt\n",
    "import pandas as pd\n",
    "import rosbag\n",
    "import math\n",
    "from scipy.spatial.transform import Rotation as R\n"
   ]
  },
  {
   "cell_type": "code",
   "execution_count": null,
   "id": "ac159e27-80a8-4df9-bd96-85af3a181eca",
   "metadata": {},
   "outputs": [],
   "source": [
    "def load_frame(fname):\n",
    "    frame = cv2.imread(fname)\n",
    "    frame = cv2.cvtColor(frame, cv2.COLOR_BGR2RGB) \n",
    "    frame = cv2.resize(frame, (1920, 1080))\n",
    "    return frame"
   ]
  },
  {
   "cell_type": "code",
   "execution_count": null,
   "id": "32aa6ff7-897b-449c-aece-cd32ed542057",
   "metadata": {},
   "outputs": [],
   "source": [
    "arucoDict = cv2.aruco.Dictionary_get(cv2.aruco.DICT_6X6_1000)\n",
    "arucoParams = cv2.aruco.DetectorParameters_create()\n",
    "\n",
    "def detect(frame):\n",
    "    corners, ids, rejected = cv2.aruco.detectMarkers(frame, arucoDict, parameters=arucoParams)\n",
    "    corners = np.array(corners).reshape((4, 2)).astype(int)\n",
    "    topLeft, topRight, bottomRight, bottomLeft = corners\n",
    "    \n",
    "    cX = int((topLeft[0] + bottomRight[0]) / 2.0)\n",
    "    cY = int((topLeft[1] + bottomRight[1]) / 2.0)\n",
    "    center = np.array([cX, cY])\n",
    "    return center"
   ]
  },
  {
   "cell_type": "code",
   "execution_count": null,
   "id": "5ed54fe5-8256-4d52-8777-96f9baee83f2",
   "metadata": {},
   "outputs": [],
   "source": [
    "img_h, img_w = 1080, 1920\n",
    "fov_h, fov_v = 84, 53  # degrees"
   ]
  },
  {
   "cell_type": "code",
   "execution_count": null,
   "id": "64b13ac0-fcbd-4419-a192-ed071e440c47",
   "metadata": {},
   "outputs": [],
   "source": [
    "fnames = ['samples/frame_1800.jpg', 'samples/frame_2800.jpg', 'samples/frame_4440.jpg']\n",
    "frames = [load_frame(fname) for fname in fnames]\n",
    "centers = np.array([detect(frame) for frame in frames])\n",
    "frames_dot = [cv2.circle(frame.copy(), tuple(center), 10, (255, 0, 0), -1) for frame, center in zip(*[frames, centers])]"
   ]
  },
  {
   "cell_type": "code",
   "execution_count": null,
   "id": "6f909f54-6104-4ddd-ac40-89c1fb0823df",
   "metadata": {},
   "outputs": [],
   "source": [
    "grid = np.vstack([\n",
    "    np.hstack(frames),\n",
    "    np.hstack(frames_dot),\n",
    "])\n",
    "plt.figure(figsize=(20, 20)) \n",
    "plt.imshow(grid)"
   ]
  },
  {
   "cell_type": "code",
   "execution_count": null,
   "id": "d75b26ac-6cfe-41c7-9e25-d7922ec0bc2a",
   "metadata": {},
   "outputs": [],
   "source": [
    "def parse_log(fname):\n",
    "    with open(fname) as f:\n",
    "        lines = f.readlines()\n",
    "    data = [eval(l.strip()) for l in lines]\n",
    "    df = pd.DataFrame(data)\n",
    "    pos = [df['lt'].mean(), df['ln'].mean(), df['al'].mean()]\n",
    "    cov = [df['lt'].var(), df['ln'].var(), df['al'].var()]\n",
    "    pos = np.array(pos)\n",
    "    cov = np.array(cov) * np.eye(3)\n",
    "    return pos, cov"
   ]
  },
  {
   "cell_type": "code",
   "execution_count": null,
   "id": "09d3fb9f-9f17-41cc-bb7b-002086bf5388",
   "metadata": {},
   "outputs": [],
   "source": [
    "n_pos, n_cov = parse_log('Node Positioning GPS Data/R00-node1-left.log')\n",
    "\n",
    "gps_points = [n_pos]\n",
    "for i in [1,2,3]:\n",
    "    o_pos, o_cov = parse_log('Node Positioning GPS Data/R00-node1-pos%d.log' % i)\n",
    "    gps_points.append(o_pos)\n",
    "gps_points = np.array(gps_points)"
   ]
  },
  {
   "cell_type": "code",
   "execution_count": null,
   "id": "d3f93407-5655-4230-a2dd-456457a6ba27",
   "metadata": {},
   "outputs": [],
   "source": [
    "with open('camera_info.json') as f:\n",
    "    camera_info = json.load(f)\n",
    "camera_info"
   ]
  },
  {
   "cell_type": "code",
   "execution_count": null,
   "id": "82deb871-dddc-4f87-a3bb-2aa860360b73",
   "metadata": {},
   "outputs": [],
   "source": [
    "rot_df = pd.read_csv('20240108-224709_camera_rotation.csv', header=None)\n",
    "rot = R.from_euler('zyx', rot_df.mean(), degrees=True)\n",
    "rot.as_matrix()"
   ]
  },
  {
   "cell_type": "code",
   "execution_count": null,
   "id": "3e7e2f9c-6d5e-481f-a4df-b4e7fb55d177",
   "metadata": {},
   "outputs": [],
   "source": [
    "def gps2cartesian(gps_coordinates):\n",
    "    \"\"\"\n",
    "    Convert GPS coordinates (latitude, longitude, altitude) to Cartesian coordinates (x, y, z),\n",
    "    with all measurements in meters.\n",
    "    \n",
    "    Parameters:\n",
    "    gps_coordinates (numpy array): An N x 3 array where each row contains latitude, longitude, and altitude.\n",
    "                                   Latitude and Longitude should be in degrees, altitude in meters.\n",
    "    \n",
    "    Returns:\n",
    "    numpy array: An N x 3 array of Cartesian coordinates (x, y, z) in mm.\n",
    "    \"\"\"\n",
    "    # Earth's mean radius in meters\n",
    "    R = 6371000\n",
    "\n",
    "    # Convert latitude and longitude from degrees to radians\n",
    "    lat_rad = np.radians(gps_coordinates[:, 0])\n",
    "    lon_rad = np.radians(gps_coordinates[:, 1])\n",
    "\n",
    "    # Adjusted radius with altitude\n",
    "    adjusted_radius = R + gps_coordinates[:, 2]\n",
    "\n",
    "    # Calculate Cartesian coordinates\n",
    "    x = adjusted_radius * np.cos(lat_rad) * np.cos(lon_rad)\n",
    "    y = adjusted_radius * np.cos(lat_rad) * np.sin(lon_rad)\n",
    "    z = adjusted_radius * np.sin(lat_rad)\n",
    "\n",
    "    return np.column_stack((x, y, z)) * 1000\n",
    "\n",
    "def gps2cartesian_torch(gps_coordinates, rad=6371000):\n",
    "    lat_rad = torch.radians(gps_coordinates[:, 0])\n",
    "    lon_rad = torch.radians(gps_coordinates[:, 1])\n",
    "\n",
    "    # Adjusted radius with altitude\n",
    "    adjusted_radius = rad + gps_coordinates[:, 2]\n",
    "\n",
    "    # Calculate Cartesian coordinates\n",
    "    x = adjusted_radius * torch.cos(lat_rad) * torch.cos(lon_rad)\n",
    "    y = adjusted_radius * torch.cos(lat_rad) * torch.sin(lon_rad)\n",
    "    z = adjusted_radius * torch.sin(lat_rad)\n",
    "\n",
    "    return torch.stack((x, y, z), dim=1) * 1000"
   ]
  },
  {
   "cell_type": "code",
   "execution_count": null,
   "id": "7ead8c88-2691-47fe-a7db-6ab1db1f46d0",
   "metadata": {},
   "outputs": [],
   "source": [
    "torch.radians"
   ]
  },
  {
   "cell_type": "code",
   "execution_count": null,
   "id": "a56756fc-690f-4834-acd8-0d555b587c24",
   "metadata": {},
   "outputs": [],
   "source": [
    "def cartesian2spherical(cart_coords):\n",
    "    x, y, z = cart_coords\n",
    "    r = np.sqrt(x**2 + y**2 + z**2)  # Radius\n",
    "    theta = np.arctan2(y, x)  # Azimuthal angle\n",
    "    phi = np.arccos(z / r)  # Polar angle\n",
    "\n",
    "    # Ensure theta is between 0 and 2π\n",
    "    #theta = theta % (2 * np.pi)\n",
    "\n",
    "    theta = np.degrees(theta)\n",
    "    phi = np.degrees(phi)\n",
    "    if phi > 90:\n",
    "        phi = 180 - phi\n",
    "    return np.array([r, theta, phi])"
   ]
  },
  {
   "cell_type": "code",
   "execution_count": null,
   "id": "355a4196-9844-49c5-8653-7cef0382fb23",
   "metadata": {},
   "outputs": [],
   "source": [
    "centers"
   ]
  },
  {
   "cell_type": "code",
   "execution_count": null,
   "id": "7ed78793-8012-403c-803b-0b483ab9c6bf",
   "metadata": {},
   "outputs": [],
   "source": [
    "cart_points = gps2cartesian(gps_points)\n",
    "cart_points"
   ]
  },
  {
   "cell_type": "code",
   "execution_count": null,
   "id": "bc27cfff-50c9-4b3a-adcd-5f88a5978a86",
   "metadata": {},
   "outputs": [],
   "source": [
    "local_points = (cart_points - cart_points[0,:]) @ rot.as_matrix()\n",
    "local_points"
   ]
  },
  {
   "cell_type": "code",
   "execution_count": null,
   "id": "f4ff5a8c-8331-4241-a857-0168c2e47786",
   "metadata": {},
   "outputs": [],
   "source": [
    "ox = -30\n",
    "oy = -200\n",
    "oz = 150"
   ]
  },
  {
   "cell_type": "code",
   "execution_count": null,
   "id": "199c9277-dc82-4b02-9880-e85b3970c295",
   "metadata": {},
   "outputs": [],
   "source": [
    "def local2pixel(local_points, camera_info):\n",
    "    X = -(local_points[:, 1] + oy)\n",
    "    Y = -(local_points[:, 2] + oz)\n",
    "    Z = (local_points[:, 0]) + ox\n",
    "    u = (X/Z) * camera_info['left']['fx'] + camera_info['left']['cx']\n",
    "    v = (Y/Z) * camera_info['left']['fy'] + camera_info['left']['cy']\n",
    "    pixels = np.vstack([u, v]).T\n",
    "    return pixels"
   ]
  },
  {
   "cell_type": "code",
   "execution_count": null,
   "id": "b90ec8ec-f89e-4547-854e-14122c40f334",
   "metadata": {},
   "outputs": [],
   "source": [
    "local2pixel(local_points, camera_info)"
   ]
  },
  {
   "cell_type": "code",
   "execution_count": null,
   "id": "96e85719-eae3-41cc-9936-660aea3bccf2",
   "metadata": {},
   "outputs": [],
   "source": [
    "u = (-O_{loc}^L[1] / O_{loc}^L[0]) * f_x + c_x \n",
    "v = (-O_{loc}^L[2] / O_{loc}^L[0]) * f_y + c_y"
   ]
  },
  {
   "cell_type": "code",
   "execution_count": null,
   "id": "0bc14381-e0b8-4118-93cc-2be2860bd8d5",
   "metadata": {},
   "outputs": [],
   "source": [
    "local_points[1]"
   ]
  },
  {
   "cell_type": "code",
   "execution_count": null,
   "id": "4f852ae6-3248-4b12-8261-fa8b3db1e388",
   "metadata": {},
   "outputs": [],
   "source": [
    "X"
   ]
  },
  {
   "cell_type": "code",
   "execution_count": null,
   "id": "2081aea9-75e3-46f9-a81c-7859cb31aa5d",
   "metadata": {},
   "outputs": [],
   "source": [
    "L = local_points[0] * 1000\n",
    "X = -(L[1] + oy)\n",
    "Y = -(L[2] + oz)\n",
    "Z = (L[0]) + ox\n",
    "(X/Z) * camera_info['left']['fx'] + camera_info['left']['cx']"
   ]
  },
  {
   "cell_type": "code",
   "execution_count": null,
   "id": "27d7ee42-771f-4817-94ec-13ea3eaf171a",
   "metadata": {},
   "outputs": [],
   "source": [
    "(Y/Z) * camera_info['left']['fy'] + camera_info['left']['cy']"
   ]
  },
  {
   "cell_type": "code",
   "execution_count": null,
   "id": "a4351871-fbee-4fd6-9a24-c2572f68ee67",
   "metadata": {},
   "outputs": [],
   "source": [
    "camera_info['left']['fx']"
   ]
  },
  {
   "cell_type": "code",
   "execution_count": null,
   "id": "27ae697a-f31e-44c1-96d0-dcb9e1a37dec",
   "metadata": {},
   "outputs": [],
   "source": [
    "#o_local = (o_pos - n_pos) @ R\n",
    "o_local = local_points @ rot.as_matrix()\n",
    "r, theta, phi = cartesian_to_spherical(o_local[3])\n",
    "r, theta, phi"
   ]
  },
  {
   "cell_type": "code",
   "execution_count": null,
   "id": "325522c9-cc5e-4ff3-a9c1-f2f84dd73f84",
   "metadata": {},
   "outputs": [],
   "source": [
    "# Point's spherical coordinates (in degrees)\n",
    "\n",
    "# Normalize the angles relative to the FOV\n",
    "# Assuming the center of the image corresponds to (theta_center, phi_center)\n",
    "theta_center, phi_center = 0, 90  # degrees\n",
    "normalized_theta = (theta - theta_center) / fov_h\n",
    "normalized_phi = (phi - phi_center) / fov_v\n",
    "print(normalized_theta, normalized_phi)\n",
    "\n",
    "# Calculate the pixel coordinates\n",
    "# Flip the Y-axis because pixel coordinates have the origin at the top-left corner\n",
    "pixel_x = int((normalized_theta + 0.5) * img_w)\n",
    "pixel_y = int((0.5 - normalized_phi) * img_h)\n",
    "\n",
    "# Ensure the pixel coordinates are within the image bounds\n",
    "#pixel_x = max(0, min(width - 1, pixel_x))\n",
    "#pixel_y = max(0, min(height - 1, pixel_y))\n",
    "\n",
    "# Output the pixel coordinates\n",
    "print(f\"Pixel Coordinates: (x, y) = ({pixel_x}, {pixel_y})\")\n"
   ]
  },
  {
   "cell_type": "code",
   "execution_count": null,
   "id": "52aadada-e9dc-4a6e-b43d-c8a2108bbe8e",
   "metadata": {},
   "outputs": [],
   "source": [
    "def pixel_to_spherical(x, y, W, H, fov_x, fov_y):\n",
    "    # Normalize the pixel coordinates to -1 to 1\n",
    "    nx = (x / (W - 1)) * 2 - 1  # Normalized to -1 to 1\n",
    "    ny = (y / (H - 1)) * 2 - 1  # Normalized to -1 to 1\n",
    "\n",
    "    # Calculate theta and phi based on the field of view\n",
    "    theta = (nx * fov_x / 2) + theta_center  # Adjusted by the center of the FOV\n",
    "    phi = (-ny * fov_y / 2) + phi_center    # Adjusted by the center of the FOV, flip the y-axis\n",
    "    \n",
    "    return theta, phi\n",
    "\n",
    "# Example usage:\n",
    "x, y = 498, 279 # Pixel coordinates\n",
    "fov_x, fov_y = 84, 53  # Camera's field of view in degrees\n",
    "theta_center, phi_center = 0, 90  # Center of the camera's field of view in degrees\n",
    "\n",
    "theta, phi = pixel_to_spherical(x, y, img_w, img_h, fov_x, fov_y)\n",
    "print(\"Theta (θ):\", theta, \"degrees\")\n",
    "print(\"Phi (φ):\", phi, \"degrees\")\n"
   ]
  },
  {
   "cell_type": "code",
   "execution_count": null,
   "id": "19056296-ba75-4854-bfd5-c47af7c83f0a",
   "metadata": {},
   "outputs": [],
   "source": []
  },
  {
   "cell_type": "raw",
   "id": "4fd29f32-60dc-49d0-8e00-1343589e843d",
   "metadata": {},
   "source": [
    "def gps_to_euclidean_3d(gps_points, ref_point):\n",
    "    R = 6371000  # Earth's radius in meters\n",
    "    \n",
    "    # Convert from degrees to radians\n",
    "    ref_lat, ref_lon = np.radians(ref_point[0]), np.radians(ref_point[1])\n",
    "    lat, lon = np.radians(gps_points[:,0]), np.radians(gps_points[:,1])\n",
    "    \n",
    "    # Calculate differences\n",
    "    dLat = lat - ref_lat  # Difference in latitude\n",
    "    dLon = lon - ref_lon  # Difference in longitude\n",
    "    dAlt = gps_points[:,2] - ref_point[2]  # Difference in altitude\n",
    "    \n",
    "    # Average latitude for longitude calculation\n",
    "    avg_lat = (ref_lat + lat) / 2\n",
    "    \n",
    "    # Calculate distances\n",
    "    delta_y = dLat * R  # North-South distance\n",
    "    delta_x = dLon * R * np.cos(avg_lat)  # East-West distance\n",
    "    \n",
    "    return np.vstack([delta_x, delta_y, dAlt]).T  # Combine and return results\n",
    "\n",
    "local_points = gps_to_euclidean_3d(gps_points, gps_points[0])\n",
    "\n",
    "local_points"
   ]
  },
  {
   "cell_type": "raw",
   "id": "066104fb-67a2-49a0-b4d0-6a9b966c1b04",
   "metadata": {},
   "source": [
    "bag = rosbag.Bag('20231011_151500_dvpg_gq_orin_1_zed.bag')\n",
    "msgs = list(bag.read_messages())\n",
    "msgs = [msg for msg in msgs if 'zed_sensor' in msg.topic]\n",
    "msgs = [msg.message for msg in msgs]\n",
    "timestamps = np.array([msg.imu_timestamp for msg in msgs]) \n",
    "A = np.array([msg.imu_angular for msg in msgs])\n",
    "\n",
    "import numpy as np\n",
    "from scipy.integrate import cumtrapz\n",
    "\n",
    "time_differences = np.diff(timestamps / 1000) #in seconds\n",
    "\n",
    "# Integrate angular velocities over time to get the angles\n",
    "roll_angles = cumtrapz(A[:,0], dx=time_differences, initial=0)\n",
    "pitch_angles = cumtrapz(A[:,1], dx=time_differences, initial=0)\n",
    "yaw_angles = cumtrapz(A[:,2], dx=time_differences, initial=0)\n",
    "\n",
    "def rotation_matrix(roll, pitch, yaw):\n",
    "    Rx = np.array([[1, 0, 0],\n",
    "                   [0, np.cos(roll), -np.sin(roll)],\n",
    "                   [0, np.sin(roll), np.cos(roll)]])\n",
    "    Ry = np.array([[np.cos(pitch), 0, np.sin(pitch)],\n",
    "                   [0, 1, 0],\n",
    "                   [-np.sin(pitch), 0, np.cos(pitch)]])\n",
    "    Rz = np.array([[np.cos(yaw), -np.sin(yaw), 0],\n",
    "                   [np.sin(yaw), np.cos(yaw), 0],\n",
    "                   [0, 0, 1]])\n",
    "    return Rz @ Ry @ Rx  \n",
    "\n",
    "R = rotation_matrix(roll_angles[-1], pitch_angles[-1], yaw_angles[-1])\n",
    "R"
   ]
  }
 ],
 "metadata": {
  "kernelspec": {
   "display_name": "Python 3 (ipykernel)",
   "language": "python",
   "name": "python3"
  },
  "language_info": {
   "codemirror_mode": {
    "name": "ipython",
    "version": 3
   },
   "file_extension": ".py",
   "mimetype": "text/x-python",
   "name": "python",
   "nbconvert_exporter": "python",
   "pygments_lexer": "ipython3",
   "version": "3.8.10"
  }
 },
 "nbformat": 4,
 "nbformat_minor": 5
}
